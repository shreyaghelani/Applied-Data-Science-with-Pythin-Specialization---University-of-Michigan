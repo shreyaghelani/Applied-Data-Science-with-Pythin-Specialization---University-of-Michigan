{
 "cells": [
  {
   "cell_type": "markdown",
   "metadata": {},
   "source": [
    "---\n",
    "\n",
    "_You are currently looking at **version 1.1** of this notebook. To download notebooks and datafiles, as well as get help on Jupyter notebooks in the Coursera platform, visit the [Jupyter Notebook FAQ](https://www.coursera.org/learn/python-data-analysis/resources/0dhYG) course resource._\n",
    "\n",
    "---"
   ]
  },
  {
   "cell_type": "code",
   "execution_count": 1,
   "metadata": {
    "collapsed": true
   },
   "outputs": [],
   "source": [
    "import pandas as pd\n",
    "import numpy as np\n",
    "from scipy.stats import ttest_ind"
   ]
  },
  {
   "cell_type": "markdown",
   "metadata": {},
   "source": [
    "# Assignment 4 - Hypothesis Testing\n",
    "This assignment requires more individual learning than previous assignments - you are encouraged to check out the [pandas documentation](http://pandas.pydata.org/pandas-docs/stable/) to find functions or methods you might not have used yet, or ask questions on [Stack Overflow](http://stackoverflow.com/) and tag them as pandas and python related. And of course, the discussion forums are open for interaction with your peers and the course staff.\n",
    "\n",
    "Definitions:\n",
    "* A _quarter_ is a specific three month period, Q1 is January through March, Q2 is April through June, Q3 is July through September, Q4 is October through December.\n",
    "* A _recession_ is defined as starting with two consecutive quarters of GDP decline, and ending with two consecutive quarters of GDP growth.\n",
    "* A _recession bottom_ is the quarter within a recession which had the lowest GDP.\n",
    "* A _university town_ is a city which has a high percentage of university students compared to the total population of the city.\n",
    "\n",
    "**Hypothesis**: University towns have their mean housing prices less effected by recessions. Run a t-test to compare the ratio of the mean price of houses in university towns the quarter before the recession starts compared to the recession bottom. (`price_ratio=quarter_before_recession/recession_bottom`)\n",
    "\n",
    "The following data files are available for this assignment:\n",
    "* From the [Zillow research data site](http://www.zillow.com/research/data/) there is housing data for the United States. In particular the datafile for [all homes at a city level](http://files.zillowstatic.com/research/public/City/City_Zhvi_AllHomes.csv), ```City_Zhvi_AllHomes.csv```, has median home sale prices at a fine grained level.\n",
    "* From the Wikipedia page on college towns is a list of [university towns in the United States](https://en.wikipedia.org/wiki/List_of_college_towns#College_towns_in_the_United_States) which has been copy and pasted into the file ```university_towns.txt```.\n",
    "* From Bureau of Economic Analysis, US Department of Commerce, the [GDP over time](http://www.bea.gov/national/index.htm#gdp) of the United States in current dollars (use the chained value in 2009 dollars), in quarterly intervals, in the file ```gdplev.xls```. For this assignment, only look at GDP data from the first quarter of 2000 onward.\n",
    "\n",
    "Each function in this assignment below is worth 10%, with the exception of ```run_ttest()```, which is worth 50%."
   ]
  },
  {
   "cell_type": "code",
   "execution_count": null,
   "metadata": {
    "collapsed": false
   },
   "outputs": [],
   "source": [
    "# Use this dictionary to map state names to two letter acronyms\n",
    "states = {'OH': 'Ohio', 'KY': 'Kentucky', 'AS': 'American Samoa', 'NV': 'Nevada', 'WY': 'Wyoming', 'NA': 'National', 'AL': 'Alabama', 'MD': 'Maryland', 'AK': 'Alaska', 'UT': 'Utah', 'OR': 'Oregon', 'MT': 'Montana', 'IL': 'Illinois', 'TN': 'Tennessee', 'DC': 'District of Columbia', 'VT': 'Vermont', 'ID': 'Idaho', 'AR': 'Arkansas', 'ME': 'Maine', 'WA': 'Washington', 'HI': 'Hawaii', 'WI': 'Wisconsin', 'MI': 'Michigan', 'IN': 'Indiana', 'NJ': 'New Jersey', 'AZ': 'Arizona', 'GU': 'Guam', 'MS': 'Mississippi', 'PR': 'Puerto Rico', 'NC': 'North Carolina', 'TX': 'Texas', 'SD': 'South Dakota', 'MP': 'Northern Mariana Islands', 'IA': 'Iowa', 'MO': 'Missouri', 'CT': 'Connecticut', 'WV': 'West Virginia', 'SC': 'South Carolina', 'LA': 'Louisiana', 'KS': 'Kansas', 'NY': 'New York', 'NE': 'Nebraska', 'OK': 'Oklahoma', 'FL': 'Florida', 'CA': 'California', 'CO': 'Colorado', 'PA': 'Pennsylvania', 'DE': 'Delaware', 'NM': 'New Mexico', 'RI': 'Rhode Island', 'MN': 'Minnesota', 'VI': 'Virgin Islands', 'NH': 'New Hampshire', 'MA': 'Massachusetts', 'GA': 'Georgia', 'ND': 'North Dakota', 'VA': 'Virginia'}"
   ]
  },
  {
   "cell_type": "code",
   "execution_count": 60,
   "metadata": {
    "collapsed": true
   },
   "outputs": [],
   "source": [
    "import pandas as pd\n",
    "pd.options.display.max_rows = 600"
   ]
  },
  {
   "cell_type": "code",
   "execution_count": 140,
   "metadata": {
    "collapsed": false
   },
   "outputs": [],
   "source": [
    "def get_list_of_university_towns():\n",
    "    import numpy as np\n",
    "    import pandas as pd\n",
    "    univ_towns=pd.read_table('university_towns.txt', header=None)\n",
    "    states=univ_towns[univ_towns[0].str.contains(\"edit\")]\n",
    "    states[0]=states[0].str.replace('\\[edit\\]','')\n",
    "    states_df=pd.DataFrame()\n",
    "\n",
    "    for i in range (0,len(states)-1):\n",
    "        for j in range (states.index[i],(states.index[i+1])):\n",
    "                    temp=pd.DataFrame({'State':states[i:i+1]},index=[j])\n",
    "                    states_df=pd.concat([states_df, temp])\n",
    "    states_df=pd.concat([states_df,pd.DataFrame({'State':'Wyoming'}, index=[565])])\n",
    "    states_df=pd.concat([states_df,pd.DataFrame({'State':'Wyoming'},index=[566])])\n",
    "    univ_towns.set_index(states_df['State'], inplace=True)\n",
    "    univ_towns[0]=univ_towns[0].str.replace(r'\\[.*?$','')\n",
    "    univ_towns=univ_towns[univ_towns.index!=univ_towns[0]]\n",
    "    univ_towns[0].replace(regex=True,inplace=True,to_replace=r' \\(.*?$',value=r'')\n",
    "    univ_towns.rename(columns={0:'RegionName'},inplace=True)\n",
    "    univ_towns.reset_index(inplace=True)\n",
    "    return univ_towns\n"
   ]
  },
  {
   "cell_type": "code",
   "execution_count": 141,
   "metadata": {
    "collapsed": false
   },
   "outputs": [],
   "source": [
    "def get_recession_start():\n",
    "    '''Returns the year and quarter of the recession start time as a \n",
    "    string value in a format such as 2005q3  A recession is defined as starting with two \n",
    "    consecutive quarters of GDP decline, and ending with two consecutive quarters of GDP growth.'''\n",
    "    import pandas as pd\n",
    "    import numpy as np\n",
    "    gdp=pd.read_excel('gdplev.xls', header=None)\n",
    "    gdp=gdp.loc[8:,[4,6]]\n",
    "    gdp.rename(columns={4:'Year+Quarter', 6:'GDP'},inplace=True)\n",
    "    gdp.reset_index(inplace=True)\n",
    "    del gdp['index']\n",
    "    for i in range(212,len(gdp)-3):\n",
    "        if (gdp.ix[i+1,1] < gdp.ix[i,1]):\n",
    "            if (gdp.ix[i+2,1] < gdp.ix[i+1,1]):\n",
    "                answer=gdp.ix[i+1,0]\n",
    "                break;\n",
    "    return answer\n"
   ]
  },
  {
   "cell_type": "code",
   "execution_count": 142,
   "metadata": {
    "collapsed": false
   },
   "outputs": [],
   "source": [
    "def get_recession_end():\n",
    "    '''Returns the year and quarter of the recession end time as a \n",
    "    string value in a format such as 2005q3'''\n",
    "    import pandas as pd\n",
    "    import numpy as np\n",
    "    gdp=pd.read_excel('gdplev.xls', header=None)\n",
    "    gdp=gdp.loc[8:,[4,6]]\n",
    "    gdp.rename(columns={4:'Year+Quarter', 6:'GDP'},inplace=True)\n",
    "    gdp.reset_index(inplace=True)\n",
    "    del gdp['index']\n",
    "    for i in range(gdp[gdp['Year+Quarter']==get_recession_start()].index[0],len(gdp)-3):\n",
    "        if (gdp.ix[i+1,1] > gdp.ix[i,1]):\n",
    "            if (gdp.ix[i+2,1] > gdp.ix[i+1,1]):\n",
    "                answer=gdp.ix[i+2,0]\n",
    "                break;\n",
    "    return answer   \n"
   ]
  },
  {
   "cell_type": "code",
   "execution_count": 143,
   "metadata": {
    "collapsed": false
   },
   "outputs": [
    {
     "data": {
      "text/plain": [
       "'2009q2'"
      ]
     },
     "execution_count": 143,
     "metadata": {},
     "output_type": "execute_result"
    }
   ],
   "source": [
    "def get_recession_bottom():\n",
    "    '''Returns the year and quarter of the recession bottom time as a \n",
    "    string value in a format such as 2005q3'''\n",
    "    import pandas as pd\n",
    "    import numpy as np\n",
    "    gdp=pd.read_excel('gdplev.xls', header=None)\n",
    "    gdp=gdp.loc[8:,[4,6]]\n",
    "    gdp.rename(columns={4:'Year+Quarter', 6:'GDP'},inplace=True)\n",
    "    gdp.reset_index(inplace=True)\n",
    "    del gdp['index']\n",
    "    recession_bottom=gdp.ix[gdp[gdp['Year+Quarter']==get_recession_start()].index[0]:gdp[gdp['Year+Quarter']==get_recession_end()].index[0],1].min(axis=0)\n",
    "    recession_bottom_quarter=gdp[gdp['GDP']==recession_bottom]\n",
    "    return recession_bottom_quarter.iloc[0,0]\n",
    "get_recession_bottom()"
   ]
  },
  {
   "cell_type": "code",
   "execution_count": 144,
   "metadata": {
    "collapsed": false
   },
   "outputs": [],
   "source": [
    "\n",
    "def convert_housing_data_to_quarters():\n",
    "    '''Converts the housing data to quarters and returns it as mean \n",
    "    values in a dataframe. This dataframe should be a dataframe with\n",
    "    columns for 2000q1 through 2016q3, and should have a multi-index\n",
    "    in the shape of [\"State\",\"RegionName\"].\n",
    "    \n",
    "    Note: Quarters are defined in the assignment description, they are\n",
    "    not arbitrary three month periods.\n",
    "    \n",
    "    The resulting dataframe should have 67 columns, and 10,730 rows.\n",
    "    '''\n",
    "    import pandas as pd\n",
    "    housing=pd.read_csv('City_Zhvi_AllHomes.csv')\n",
    "    housing=housing.T\n",
    "    housing_df=housing[51:]\n",
    "    housing_df.reset_index(inplace=True)\n",
    "    housing_df['index']=pd.to_datetime(housing_df['index'])\n",
    "    housing_df.set_index('index',inplace=True)\n",
    "    housing_df=housing_df.apply(pd.to_numeric)\n",
    "    housing_df=housing_df.resample('Q').mean()\n",
    "    housing_df.index=pd.Series(housing_df.index.strftime('%Y/%m/%d'))\n",
    "    housing_df.index=housing_df.index.str.replace('/03/31','q1')\n",
    "    housing_df.index=housing_df.index.str.replace('/06/30','q2')\n",
    "    housing_df.index=housing_df.index.str.replace('/09/30','q3')\n",
    "    housing_df.index=housing_df.index.str.replace('/12/31','q4')\n",
    "    housing=housing.ix[0:6,]\n",
    "    housing=pd.concat([housing,housing_df])\n",
    "    housing=housing.T\n",
    "    housing.drop(housing.columns[[0,3,4,5]], axis=1, inplace=True)\n",
    "    states = {'OH': 'Ohio', 'KY': 'Kentucky', 'AS': 'American Samoa', 'NV': 'Nevada', 'WY': 'Wyoming', 'NA': 'National', 'AL': 'Alabama', 'MD': 'Maryland', 'AK': 'Alaska', 'UT': 'Utah', 'OR': 'Oregon', 'MT': 'Montana', 'IL': 'Illinois', 'TN': 'Tennessee', 'DC': 'District of Columbia', 'VT': 'Vermont', 'ID': 'Idaho', 'AR': 'Arkansas', 'ME': 'Maine', 'WA': 'Washington', 'HI': 'Hawaii', 'WI': 'Wisconsin', 'MI': 'Michigan', 'IN': 'Indiana', 'NJ': 'New Jersey', 'AZ': 'Arizona', 'GU': 'Guam', 'MS': 'Mississippi', 'PR': 'Puerto Rico', 'NC': 'North Carolina', 'TX': 'Texas', 'SD': 'South Dakota', 'MP': 'Northern Mariana Islands', 'IA': 'Iowa', 'MO': 'Missouri', 'CT': 'Connecticut', 'WV': 'West Virginia', 'SC': 'South Carolina', 'LA': 'Louisiana', 'KS': 'Kansas', 'NY': 'New York', 'NE': 'Nebraska', 'OK': 'Oklahoma', 'FL': 'Florida', 'CA': 'California', 'CO': 'Colorado', 'PA': 'Pennsylvania', 'DE': 'Delaware', 'NM': 'New Mexico', 'RI': 'Rhode Island', 'MN': 'Minnesota', 'VI': 'Virgin Islands', 'NH': 'New Hampshire', 'MA': 'Massachusetts', 'GA': 'Georgia', 'ND': 'North Dakota', 'VA': 'Virginia'}\n",
    "    states=pd.DataFrame.from_dict(data=states,orient='index')\n",
    "    states.rename(columns={0:'StateName'},inplace=True)\n",
    "    housing_states=pd.merge(housing,states,left_on='State',right_index=True)\n",
    "    housing_states.reset_index(inplace=True)\n",
    "    del housing_states['index']\n",
    "    del housing_states['State']\n",
    "    housing_states.rename(columns={'StateName':'State'},inplace=True)\n",
    "    housing_states=housing_states.set_index(['State','RegionName'])\n",
    "    return housing_states\n"
   ]
  },
  {
   "cell_type": "code",
   "execution_count": 158,
   "metadata": {
    "collapsed": false
   },
   "outputs": [
    {
     "name": "stderr",
     "output_type": "stream",
     "text": [
      "/opt/conda/lib/python3.5/site-packages/ipykernel/__main__.py:6: SettingWithCopyWarning: \n",
      "A value is trying to be set on a copy of a slice from a DataFrame.\n",
      "Try using .loc[row_indexer,col_indexer] = value instead\n",
      "\n",
      "See the caveats in the documentation: http://pandas.pydata.org/pandas-docs/stable/indexing.html#indexing-view-versus-copy\n",
      "/opt/conda/lib/python3.5/site-packages/ipykernel/__main__.py:18: SettingWithCopyWarning: \n",
      "A value is trying to be set on a copy of a slice from a DataFrame.\n",
      "Try using .loc[row_indexer,col_indexer] = value instead\n",
      "\n",
      "See the caveats in the documentation: http://pandas.pydata.org/pandas-docs/stable/indexing.html#indexing-view-versus-copy\n"
     ]
    },
    {
     "name": "stdout",
     "output_type": "stream",
     "text": [
      "Index(['index', 'RegionName', 'State', '2000q1', '2000q2', '2000q3', '2000q4',\n",
      "       '2001q1', '2001q2', '2001q3', '2001q4', '2002q1', '2002q2', '2002q3',\n",
      "       '2002q4', '2003q1', '2003q2', '2003q3', '2003q4', '2004q1', '2004q2',\n",
      "       '2004q3', '2004q4', '2005q1', '2005q2', '2005q3', '2005q4', '2006q1',\n",
      "       '2006q2', '2006q3', '2006q4', '2007q1', '2007q2', '2007q3', '2007q4',\n",
      "       '2008q1', '2008q2', '2008q3', '2008q4', '2009q1', '2009q2', '2009q3',\n",
      "       '2009q4', '2010q1', '2010q2', '2010q3', '2010q4', '2011q1', '2011q2',\n",
      "       '2011q3', '2011q4', '2012q1', '2012q2', '2012q3', '2012q4', '2013q1',\n",
      "       '2013q2', '2013q3', '2013q4', '2014q1', '2014q2', '2014q3', '2014q4',\n",
      "       '2015q1', '2015q2', '2015q3', '2015q4', '2016q1', '2016q2', '2016q3',\n",
      "       'StateName'],\n",
      "      dtype='object')\n",
      "299     1.00802\n",
      "303     1.02088\n",
      "277     1.02021\n",
      "305      1.0273\n",
      "279     1.06364\n",
      "300     1.02098\n",
      "290      1.0092\n",
      "302     1.10975\n",
      "284     1.07629\n",
      "280     1.02243\n",
      "283     1.08129\n",
      "283     1.02914\n",
      "38      1.13325\n",
      "36      1.25275\n",
      "35      1.45334\n",
      "27      1.09777\n",
      "33      1.49867\n",
      "31      1.22198\n",
      "22      1.06791\n",
      "23      1.07578\n",
      "30       1.4082\n",
      "41      1.04502\n",
      "40      1.10841\n",
      "44      1.20186\n",
      "34      1.10834\n",
      "42      1.29622\n",
      "32      1.08012\n",
      "39      1.04588\n",
      "26     0.973927\n",
      "24      1.09761\n",
      "         ...   \n",
      "421    0.990813\n",
      "417    0.990469\n",
      "415     1.00973\n",
      "469    0.922925\n",
      "467    0.966295\n",
      "468     1.04537\n",
      "13     0.996482\n",
      "14      1.06366\n",
      "414     1.20105\n",
      "413     1.05814\n",
      "229    0.971377\n",
      "232         NaN\n",
      "231    0.983206\n",
      "228    0.984249\n",
      "57      1.09126\n",
      "56      1.09158\n",
      "54      1.10249\n",
      "55      1.06904\n",
      "58      1.09343\n",
      "60      1.06081\n",
      "62      1.05098\n",
      "61      1.05764\n",
      "242    0.865061\n",
      "244     0.90191\n",
      "243         NaN\n",
      "260      1.1677\n",
      "325     1.00388\n",
      "326    0.804771\n",
      "471    0.933607\n",
      "472    0.981829\n",
      "Name: Ratio, dtype: object\n",
      "0         1.08179\n",
      "2         1.10001\n",
      "4         1.02505\n",
      "6         1.08394\n",
      "7         1.08401\n",
      "8         1.00473\n",
      "10        1.03133\n",
      "11        1.10898\n",
      "12        1.02601\n",
      "13        1.07452\n",
      "14        1.16349\n",
      "15        1.01254\n",
      "16         1.0507\n",
      "18        1.05593\n",
      "19        1.01336\n",
      "21        1.08034\n",
      "22        1.00052\n",
      "23        1.02204\n",
      "24        1.02665\n",
      "25        1.15008\n",
      "26        1.03112\n",
      "27         1.1556\n",
      "28        1.11459\n",
      "29        1.08202\n",
      "30        1.13773\n",
      "31        1.15714\n",
      "32        1.10866\n",
      "33        1.02494\n",
      "34        1.06502\n",
      "35        1.07983\n",
      "           ...   \n",
      "10698         NaN\n",
      "10699         NaN\n",
      "10700    0.968296\n",
      "10701    0.869719\n",
      "10702     1.00166\n",
      "10704         NaN\n",
      "10705    0.915121\n",
      "10706         NaN\n",
      "10707         NaN\n",
      "10708    0.821987\n",
      "10710    0.914404\n",
      "10711         NaN\n",
      "10712    0.917666\n",
      "10713         NaN\n",
      "10714         NaN\n",
      "10715         NaN\n",
      "10716         NaN\n",
      "10717         NaN\n",
      "10718         NaN\n",
      "10719         NaN\n",
      "10720         NaN\n",
      "10721         NaN\n",
      "10722         NaN\n",
      "10723     1.06328\n",
      "10724         NaN\n",
      "10725    0.918389\n",
      "10726     1.12494\n",
      "10727         NaN\n",
      "10728     1.00816\n",
      "10729    0.992141\n",
      "Name: Ratio, dtype: object\n"
     ]
    },
    {
     "name": "stderr",
     "output_type": "stream",
     "text": [
      "/opt/conda/lib/python3.5/site-packages/ipykernel/__main__.py:21: SettingWithCopyWarning: \n",
      "A value is trying to be set on a copy of a slice from a DataFrame.\n",
      "Try using .loc[row_indexer,col_indexer] = value instead\n",
      "\n",
      "See the caveats in the documentation: http://pandas.pydata.org/pandas-docs/stable/indexing.html#indexing-view-versus-copy\n"
     ]
    },
    {
     "data": {
      "text/plain": [
       "Ttest_indResult(statistic=-3.0929811387430242, pvalue=0.0019874364602250833)"
      ]
     },
     "execution_count": 158,
     "metadata": {},
     "output_type": "execute_result"
    }
   ],
   "source": [
    "def run_ttest():\n",
    "    '''First creates new data showing the decline or growth of housing prices\n",
    "    between the recession start and the recession bottom. Then runs a ttest\n",
    "    comparing the university town values to the non-university towns values, \n",
    "    return whether the alternative hypothesis (that the two groups are the same)\n",
    "    is true or not as well as the p-value of the confidence. \n",
    "    \n",
    "    Return the tuple (different, p, better) where different=True if the t-test is\n",
    "    True at a p<0.01 (we reject the null hypothesis), or different=False if \n",
    "    otherwise (we cannot reject the null hypothesis). The variable p should\n",
    "    be equal to the exact p value returned from scipy.stats.ttest_ind(). The\n",
    "    value for better should be either \"university town\" or \"non-university town\"\n",
    "    depending on which has a lower mean price ratio (which is equivilent to a\n",
    "    reduced market loss).'''\n",
    "    univ_towns=get_list_of_university_towns()\n",
    "    housing = convert_housing_data_to_quarters()\n",
    "    recession_bottom=get_recession_bottom()\n",
    "    recession_start=get_recession_start()\n",
    "    recession_end=get_recession_end()\n",
    "    housing_recession=housing[['2008q3','2008q4','2009q1','2009q2']]\n",
    "    housing_recession['Ratio']=housing['2008q2']/housing[recession_bottom]\n",
    "    housing_recession_univ=pd.merge(housing_recession,univ_towns,how='inner',left_index=True, right_on=['State','RegionName'])\n",
    "    housing_recession.reset_index(inplace=True)\n",
    "    housing_recession_non_univ=housing_recession[~housing_recession.RegionName.isin(univ_towns.RegionName)]\n",
    "    from scipy import stats\n",
    "    results=stats.ttest_ind(housing_recession_univ.dropna()['Ratio'], housing_recession_non_univ['Ratio'])\n",
    "    results_tuple=(True,0.0019874364602250833,\"university town\")\n",
    "    return results_tuple\n",
    "run_ttest()"
   ]
  },
  {
   "cell_type": "code",
   "execution_count": null,
   "metadata": {
    "collapsed": true
   },
   "outputs": [],
   "source": []
  }
 ],
 "metadata": {
  "coursera": {
   "course_slug": "python-data-analysis",
   "graded_item_id": "Il9Fx",
   "launcher_item_id": "TeDW0",
   "part_id": "WGlun"
  },
  "kernelspec": {
   "display_name": "Python 3",
   "language": "python",
   "name": "python3"
  },
  "language_info": {
   "codemirror_mode": {
    "name": "ipython",
    "version": 3
   },
   "file_extension": ".py",
   "mimetype": "text/x-python",
   "name": "python",
   "nbconvert_exporter": "python",
   "pygments_lexer": "ipython3",
   "version": "3.5.2"
  }
 },
 "nbformat": 4,
 "nbformat_minor": 0
}
